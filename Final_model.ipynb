{
 "cells": [
  {
   "cell_type": "code",
   "execution_count": 6,
   "id": "a928ac42-b239-4a15-9063-de0d39ad13de",
   "metadata": {},
   "outputs": [
    {
     "name": "stdout",
     "output_type": "stream",
     "text": [
      "Calculating hashes...\n",
      "Total unique hashes: 2986\n",
      "\n",
      "=== Overview ===\n",
      "Clase 'esophagitis': Total=1000\n",
      "  train: 700 imágenes (70.0%)\n",
      "  val: 150 imágenes (15.0%)\n",
      "  test: 150 imágenes (15.0%)\n",
      "Clase 'polyps': Total=1000\n",
      "  train: 700 imágenes (70.0%)\n",
      "  val: 150 imágenes (15.0%)\n",
      "  test: 150 imágenes (15.0%)\n",
      "Clase 'ulcerative-colitis': Total=1000\n",
      "  train: 700 imágenes (70.0%)\n",
      "  val: 150 imágenes (15.0%)\n",
      "  test: 150 imágenes (15.0%)\n"
     ]
    }
   ],
   "source": [
    "import os\n",
    "import random\n",
    "import shutil\n",
    "from pathlib import Path\n",
    "from PIL import Image\n",
    "import imagehash\n",
    "from collections import defaultdict\n",
    "\n",
    "\n",
    "# Paths\n",
    "ORIG_DATASET = \"original_dataset\"\n",
    "TARGET_DATASET = \"splited_dataset\"\n",
    "SEED = 42\n",
    "\n",
    "random.seed(SEED)\n",
    "\n",
    "# Splits\n",
    "SPLITS = {\n",
    "    'train': 0.7,\n",
    "    'val': 0.15,\n",
    "    'test': 0.15\n",
    "}\n",
    "\n",
    "VALID_EXTENSIONS = {'.jpg', '.jpeg', '.png', '.bmp'}\n",
    "\n",
    "# Pick images and hashes\n",
    "hash_to_files = defaultdict(list)\n",
    "\n",
    "print(\"Calculating hashes...\")\n",
    "for class_name in sorted(os.listdir(ORIG_DATASET)):\n",
    "    class_dir = os.path.join(ORIG_DATASET, class_name)\n",
    "    if not os.path.isdir(class_dir):\n",
    "        continue\n",
    "    for fname in os.listdir(class_dir):\n",
    "        if fname.startswith('.'):\n",
    "            continue\n",
    "        ext = os.path.splitext(fname)[1].lower()\n",
    "        if ext not in VALID_EXTENSIONS:\n",
    "            continue\n",
    "        fpath = os.path.join(class_dir, fname)\n",
    "        try:\n",
    "            img = Image.open(fpath).convert(\"RGB\")\n",
    "            h = imagehash.phash(img)\n",
    "            hash_to_files[str(h)].append((fpath, class_name))\n",
    "        except Exception as e:\n",
    "            print(f\"Error procesando {fpath}: {e}\")\n",
    "\n",
    "print(\"Total unique hashes:\", len(hash_to_files))\n",
    "\n",
    "# Mix hashes\n",
    "hash_list = list(hash_to_files.items())\n",
    "random.shuffle(hash_list)\n",
    "\n",
    "# Create folders\n",
    "for split in SPLITS:\n",
    "    for class_name in os.listdir(ORIG_DATASET):\n",
    "        Path(os.path.join(TARGET_DATASET, split, class_name)).mkdir(parents=True, exist_ok=True)\n",
    "\n",
    "# Counters\n",
    "class_counts = defaultdict(lambda: {'train':0, 'val':0, 'test':0})\n",
    "total_images_per_class = defaultdict(int)\n",
    "\n",
    "for h, files in hash_list:\n",
    "    classes_in_hash = set([c for _, c in files])\n",
    "    for c in classes_in_hash:\n",
    "        total_images_per_class[c] += sum(1 for f in files if f[1]==c)\n",
    "\n",
    "def assign_split(class_name):\n",
    "    counts = class_counts[class_name]\n",
    "    total = total_images_per_class[class_name]\n",
    "    train_target = SPLITS['train'] * total\n",
    "    val_target = SPLITS['val'] * total\n",
    "    test_target = SPLITS['test'] * total\n",
    "    if counts['train'] < train_target:\n",
    "        return 'train'\n",
    "    elif counts['val'] < val_target:\n",
    "        return 'val'\n",
    "    else:\n",
    "        return 'test'\n",
    "\n",
    "# Distribute\n",
    "for h, files in hash_list:\n",
    "    files_by_class = defaultdict(list)\n",
    "    for fpath, class_name in files:\n",
    "        files_by_class[class_name].append(fpath)\n",
    "    for class_name, flist in files_by_class.items():\n",
    "        split = assign_split(class_name)\n",
    "        for src in flist:\n",
    "            dest = os.path.join(TARGET_DATASET, split, class_name, os.path.basename(src))\n",
    "            shutil.copy2(src, dest)\n",
    "            class_counts[class_name][split] +=1\n",
    "\n",
    "# Overview\n",
    "print(\"\\n=== Overview ===\")\n",
    "for class_name in sorted(total_images_per_class):\n",
    "    counts = class_counts[class_name]\n",
    "    total = sum(counts.values())\n",
    "    print(f\"Clase '{class_name}': Total={total}\")\n",
    "    for split in SPLITS:\n",
    "        pct = 100 * counts[split]/total\n",
    "        print(f\"  {split}: {counts[split]} imágenes ({pct:.1f}%)\")\n"
   ]
  },
  {
   "cell_type": "markdown",
   "id": "075da7c0-d4f8-490b-a8d2-e9e62ed0c34b",
   "metadata": {},
   "source": [
    "## MobileNet with weights and Fine Tuning"
   ]
  },
  {
   "cell_type": "code",
   "execution_count": 30,
   "id": "084bb85d-0a12-4c87-8dbf-8d583ff506a1",
   "metadata": {},
   "outputs": [],
   "source": [
    "import cv2\n",
    "import numpy as np\n",
    "\n",
    "def image_res(imagen, brillo_min=40, **kwargs):\n",
    "    \"\"\"\n",
    "    Cleans the endoscopic image by removing the green box (ScopeGuide),\n",
    "    cropping the bright useful region if applicable, and masking any green\n",
    "    box by filling it with the average color (excluding green regions).\n",
    "    \"\"\"\n",
    "\n",
    "    # Convert to LAB to detect brightness\n",
    "    imagen_lab = cv2.cvtColor(imagen, cv2.COLOR_BGR2LAB)\n",
    "    l_channel, _, _ = cv2.split(imagen_lab)\n",
    "\n",
    "    # Brightness threshold\n",
    "    _, mask = cv2.threshold(l_channel, brillo_min, 255, cv2.THRESH_BINARY)\n",
    "\n",
    "    # Erosion + dilation\n",
    "    kernel = cv2.getStructuringElement(cv2.MORPH_ELLIPSE, (5, 5))\n",
    "    mask = cv2.morphologyEx(mask, cv2.MORPH_OPEN, kernel)\n",
    "\n",
    "    # Search for contours\n",
    "    contours, _ = cv2.findContours(mask, cv2.RETR_EXTERNAL, cv2.CHAIN_APPROX_SIMPLE)\n",
    "\n",
    "    if contours:\n",
    "        largest = max(contours, key=cv2.contourArea)\n",
    "        x, y, w, h = cv2.boundingRect(largest)\n",
    "        if w * h < 0.95 * imagen.shape[0] * imagen.shape[1]:\n",
    "            margen = 10\n",
    "            x = max(x - margen, 0)\n",
    "            y = max(y - margen, 0)\n",
    "            x2 = min(x + w + 2 * margen, imagen.shape[1])\n",
    "            y2 = min(y + h + 2 * margen, imagen.shape[0])\n",
    "            imagen = imagen[y:y2, x:x2]\n",
    "            mask = mask[y:y2, x:x2]\n",
    "\n",
    "    # Convert to HSV\n",
    "    hsv = cv2.cvtColor(imagen, cv2.COLOR_BGR2HSV)\n",
    "\n",
    "    # Green range\n",
    "    verde_bajo = np.array([35, 100, 100])\n",
    "    verde_alto = np.array([85, 255, 255])\n",
    "\n",
    "    mask_verde = cv2.inRange(hsv, verde_bajo, verde_alto)\n",
    "\n",
    "    # Morphology to join disperse pixels\n",
    "    kernel_verde = np.ones((15, 15), np.uint8)\n",
    "    mask_verde = cv2.morphologyEx(mask_verde, cv2.MORPH_CLOSE, kernel_verde)\n",
    "    mask_verde = cv2.dilate(mask_verde, kernel_verde, iterations=1)\n",
    "\n",
    "    n_pixels_verdes = cv2.countNonZero(mask_verde)\n",
    "\n",
    "    # Prepare mask to exclude green\n",
    "    if cv2.countNonZero(mask) > 0:\n",
    "        # Combine brightness mask and NOT green mask\n",
    "        mask_no_verde = cv2.bitwise_and(mask, cv2.bitwise_not(mask_verde))\n",
    "        if cv2.countNonZero(mask_no_verde) > 0:\n",
    "            mean_color = cv2.mean(imagen, mask=mask_no_verde)[:3]\n",
    "        else:\n",
    "            # If everything is green, fallback to no-green over whole image\n",
    "            mask_all_no_verde = cv2.bitwise_not(mask_verde)\n",
    "            mean_color = cv2.mean(imagen, mask=mask_all_no_verde)[:3]\n",
    "    else:\n",
    "        # No brightness mask, use entire image excluding green\n",
    "        mask_all_no_verde = cv2.bitwise_not(mask_verde)\n",
    "        mean_color = cv2.mean(imagen, mask=mask_all_no_verde)[:3]\n",
    "\n",
    "    mean_color = np.array(mean_color, dtype=np.uint8)\n",
    "\n",
    "    if n_pixels_verdes > 0:\n",
    "        relleno = np.full(imagen.shape, mean_color, dtype=np.uint8)\n",
    "        mask_verde_3c = cv2.merge([mask_verde]*3)\n",
    "        imagen_resultado = np.where(mask_verde_3c > 0, relleno, imagen)\n",
    "        return imagen_resultado\n",
    "\n",
    "    return imagen\n"
   ]
  },
  {
   "cell_type": "code",
   "execution_count": 38,
   "id": "4d0d4357-4cfa-4d83-a0b0-9e8cb51fe62e",
   "metadata": {},
   "outputs": [],
   "source": [
    "from tensorflow.keras.utils import Sequence\n",
    "import numpy as np\n",
    "\n",
    "\n",
    "class AlbumentationsDataGenerator(Sequence):\n",
    "    def __init__(self, image_paths, labels, transform, batch_size=32, num_classes=3, shuffle=True, target_size=(224,224)):\n",
    "        self.image_paths = image_paths\n",
    "        self.labels = labels\n",
    "        self.transform = transform\n",
    "        self.batch_size = batch_size\n",
    "        self.num_classes = num_classes\n",
    "        self.shuffle = shuffle\n",
    "        self.target_size = target_size\n",
    "        self.indices = np.arange(len(self.image_paths))\n",
    "        self.on_epoch_end()\n",
    "\n",
    "    def __len__(self):\n",
    "        return int(np.ceil(len(self.image_paths) / self.batch_size))\n",
    "\n",
    "    def __getitem__(self, index):\n",
    "        batch_indices = self.indices[index*self.batch_size:(index+1)*self.batch_size]\n",
    "        batch_images = []\n",
    "        batch_labels = []\n",
    "        for i in batch_indices:\n",
    "            img = cv2.imread(self.image_paths[i])\n",
    "            img = cv2.cvtColor(img, cv2.COLOR_BGR2RGB)\n",
    "            augmented = self.transform(image=img)\n",
    "            img = augmented['image'].astype(np.float32) / 255.0                   \n",
    "            batch_images.append(img)\n",
    "            batch_labels.append(self.labels[i])\n",
    "        batch_images = np.array(batch_images)\n",
    "        batch_labels = np.eye(self.num_classes)[batch_labels]\n",
    "        return batch_images, batch_labels\n",
    "\n",
    "    def on_epoch_end(self):\n",
    "        if self.shuffle:\n",
    "            np.random.shuffle(self.indices)\n",
    "\n",
    "            batch_images.append(img)\n",
    "            batch_labels.append(self.labels[i])\n",
    "        batch_images = np.array(batch_images)\n",
    "        batch_labels = np.eye(self.num_classes)[batch_labels]\n",
    "        return batch_images, batch_labels\n",
    "\n",
    "    def on_epoch_end(self):\n",
    "        if self.shuffle:\n",
    "            np.random.shuffle(self.indices)\n"
   ]
  },
  {
   "cell_type": "code",
   "execution_count": 2,
   "id": "0e954170-796f-4d40-857d-c94cf2d1456b",
   "metadata": {},
   "outputs": [],
   "source": [
    "import glob\n",
    "\n",
    "class_indices = {'esophagitis':0, 'polyps':1, 'ulcerative-colitis':2}\n",
    "\n",
    "train_image_paths = []\n",
    "train_labels = []\n",
    "\n",
    "for class_name, idx in class_indices.items():\n",
    "    files = glob.glob(f\"splited_dataset/train/{class_name}/*\")\n",
    "    train_image_paths.extend(files)\n",
    "    train_labels.extend([idx]*len(files))"
   ]
  },
  {
   "cell_type": "markdown",
   "id": "6f629682-c4df-4b54-afa9-ef86f6920a1c",
   "metadata": {},
   "source": [
    "# Second version of the model"
   ]
  },
  {
   "cell_type": "markdown",
   "id": "0ac0363d-0f44-4431-a426-b9d2e5dc7419",
   "metadata": {},
   "source": [
    "## Using image_res"
   ]
  },
  {
   "cell_type": "code",
   "execution_count": 40,
   "id": "3ebdb06c-07bb-4558-87df-a7bdfae164bd",
   "metadata": {},
   "outputs": [
    {
     "data": {
      "text/html": [
       "Finishing previous runs because reinit is set to 'default'."
      ],
      "text/plain": [
       "<IPython.core.display.HTML object>"
      ]
     },
     "metadata": {},
     "output_type": "display_data"
    },
    {
     "data": {
      "text/html": [],
      "text/plain": [
       "<IPython.core.display.HTML object>"
      ]
     },
     "metadata": {},
     "output_type": "display_data"
    },
    {
     "data": {
      "text/html": [
       " View run <strong style=\"color:#cdcd00\">mobilenetv2-fineTun_albumentation4</strong> at: <a href='https://wandb.ai/0256797-universidad-panamericana/kvasir-classes/runs/33p3crio' target=\"_blank\">https://wandb.ai/0256797-universidad-panamericana/kvasir-classes/runs/33p3crio</a><br> View project at: <a href='https://wandb.ai/0256797-universidad-panamericana/kvasir-classes' target=\"_blank\">https://wandb.ai/0256797-universidad-panamericana/kvasir-classes</a><br>Synced 5 W&B file(s), 0 media file(s), 0 artifact file(s) and 0 other file(s)"
      ],
      "text/plain": [
       "<IPython.core.display.HTML object>"
      ]
     },
     "metadata": {},
     "output_type": "display_data"
    },
    {
     "data": {
      "text/html": [
       "Find logs at: <code>.\\wandb\\run-20250702_004254-33p3crio\\logs</code>"
      ],
      "text/plain": [
       "<IPython.core.display.HTML object>"
      ]
     },
     "metadata": {},
     "output_type": "display_data"
    },
    {
     "data": {
      "text/html": [
       "Tracking run with wandb version 0.20.1"
      ],
      "text/plain": [
       "<IPython.core.display.HTML object>"
      ]
     },
     "metadata": {},
     "output_type": "display_data"
    },
    {
     "data": {
      "text/html": [
       "Run data is saved locally in <code>C:\\Users\\valer\\IA_Project\\wandb\\run-20250702_005156-5qyy5asw</code>"
      ],
      "text/plain": [
       "<IPython.core.display.HTML object>"
      ]
     },
     "metadata": {},
     "output_type": "display_data"
    },
    {
     "data": {
      "text/html": [
       "Syncing run <strong><a href='https://wandb.ai/0256797-universidad-panamericana/kvasir-classes/runs/5qyy5asw' target=\"_blank\">olive-water-22</a></strong> to <a href='https://wandb.ai/0256797-universidad-panamericana/kvasir-classes' target=\"_blank\">Weights & Biases</a> (<a href='https://wandb.me/developer-guide' target=\"_blank\">docs</a>)<br>"
      ],
      "text/plain": [
       "<IPython.core.display.HTML object>"
      ]
     },
     "metadata": {},
     "output_type": "display_data"
    },
    {
     "data": {
      "text/html": [
       " View project at <a href='https://wandb.ai/0256797-universidad-panamericana/kvasir-classes' target=\"_blank\">https://wandb.ai/0256797-universidad-panamericana/kvasir-classes</a>"
      ],
      "text/plain": [
       "<IPython.core.display.HTML object>"
      ]
     },
     "metadata": {},
     "output_type": "display_data"
    },
    {
     "data": {
      "text/html": [
       " View run at <a href='https://wandb.ai/0256797-universidad-panamericana/kvasir-classes/runs/5qyy5asw' target=\"_blank\">https://wandb.ai/0256797-universidad-panamericana/kvasir-classes/runs/5qyy5asw</a>"
      ],
      "text/plain": [
       "<IPython.core.display.HTML object>"
      ]
     },
     "metadata": {},
     "output_type": "display_data"
    },
    {
     "data": {
      "text/html": [
       "Finishing previous runs because reinit is set to 'default'."
      ],
      "text/plain": [
       "<IPython.core.display.HTML object>"
      ]
     },
     "metadata": {},
     "output_type": "display_data"
    },
    {
     "name": "stderr",
     "output_type": "stream",
     "text": [
      "\u001b[34m\u001b[1mwandb\u001b[0m: \u001b[32m\u001b[41mERROR\u001b[0m The nbformat package was not found. It is required to save notebook history.\n"
     ]
    },
    {
     "data": {
      "text/html": [],
      "text/plain": [
       "<IPython.core.display.HTML object>"
      ]
     },
     "metadata": {},
     "output_type": "display_data"
    },
    {
     "data": {
      "text/html": [
       " View run <strong style=\"color:#cdcd00\">olive-water-22</strong> at: <a href='https://wandb.ai/0256797-universidad-panamericana/kvasir-classes/runs/5qyy5asw' target=\"_blank\">https://wandb.ai/0256797-universidad-panamericana/kvasir-classes/runs/5qyy5asw</a><br> View project at: <a href='https://wandb.ai/0256797-universidad-panamericana/kvasir-classes' target=\"_blank\">https://wandb.ai/0256797-universidad-panamericana/kvasir-classes</a><br>Synced 5 W&B file(s), 0 media file(s), 0 artifact file(s) and 0 other file(s)"
      ],
      "text/plain": [
       "<IPython.core.display.HTML object>"
      ]
     },
     "metadata": {},
     "output_type": "display_data"
    },
    {
     "data": {
      "text/html": [
       "Find logs at: <code>.\\wandb\\run-20250702_005156-5qyy5asw\\logs</code>"
      ],
      "text/plain": [
       "<IPython.core.display.HTML object>"
      ]
     },
     "metadata": {},
     "output_type": "display_data"
    },
    {
     "data": {
      "text/html": [
       "Tracking run with wandb version 0.20.1"
      ],
      "text/plain": [
       "<IPython.core.display.HTML object>"
      ]
     },
     "metadata": {},
     "output_type": "display_data"
    },
    {
     "data": {
      "text/html": [
       "Run data is saved locally in <code>C:\\Users\\valer\\IA_Project\\wandb\\run-20250702_005158-3l4sjun0</code>"
      ],
      "text/plain": [
       "<IPython.core.display.HTML object>"
      ]
     },
     "metadata": {},
     "output_type": "display_data"
    },
    {
     "data": {
      "text/html": [
       "Syncing run <strong><a href='https://wandb.ai/0256797-universidad-panamericana/kvasir-classes/runs/3l4sjun0' target=\"_blank\">mobilenetv2-fineTun_albumentation5</a></strong> to <a href='https://wandb.ai/0256797-universidad-panamericana/kvasir-classes' target=\"_blank\">Weights & Biases</a> (<a href='https://wandb.me/developer-guide' target=\"_blank\">docs</a>)<br>"
      ],
      "text/plain": [
       "<IPython.core.display.HTML object>"
      ]
     },
     "metadata": {},
     "output_type": "display_data"
    },
    {
     "data": {
      "text/html": [
       " View project at <a href='https://wandb.ai/0256797-universidad-panamericana/kvasir-classes' target=\"_blank\">https://wandb.ai/0256797-universidad-panamericana/kvasir-classes</a>"
      ],
      "text/plain": [
       "<IPython.core.display.HTML object>"
      ]
     },
     "metadata": {},
     "output_type": "display_data"
    },
    {
     "data": {
      "text/html": [
       " View run at <a href='https://wandb.ai/0256797-universidad-panamericana/kvasir-classes/runs/3l4sjun0' target=\"_blank\">https://wandb.ai/0256797-universidad-panamericana/kvasir-classes/runs/3l4sjun0</a>"
      ],
      "text/plain": [
       "<IPython.core.display.HTML object>"
      ]
     },
     "metadata": {},
     "output_type": "display_data"
    },
    {
     "name": "stderr",
     "output_type": "stream",
     "text": [
      "C:\\Users\\valer\\AppData\\Roaming\\Python\\Python310\\site-packages\\albumentations\\core\\validation.py:114: UserWarning: ShiftScaleRotate is a special case of Affine transform. Please use Affine transform instead.\n",
      "  original_init(self, **validated_kwargs)\n",
      "C:\\Users\\valer\\anaconda3\\envs\\tf_env\\lib\\site-packages\\keras\\src\\trainers\\data_adapters\\py_dataset_adapter.py:121: UserWarning: Your `PyDataset` class should call `super().__init__(**kwargs)` in its constructor. `**kwargs` can include `workers`, `use_multiprocessing`, `max_queue_size`. Do not pass these arguments to `fit()`, as they will be ignored.\n",
      "  self._warn_if_super_not_called()\n"
     ]
    },
    {
     "name": "stdout",
     "output_type": "stream",
     "text": [
      "Epoch 1/10\n",
      "\u001b[1m66/66\u001b[0m \u001b[32m━━━━━━━━━━━━━━━━━━━━\u001b[0m\u001b[37m\u001b[0m \u001b[1m145s\u001b[0m 2s/step - accuracy: 0.8272 - loss: 0.4221 - val_accuracy: 0.9444 - val_loss: 0.1790\n",
      "Epoch 2/10\n",
      "\u001b[1m66/66\u001b[0m \u001b[32m━━━━━━━━━━━━━━━━━━━━\u001b[0m\u001b[37m\u001b[0m \u001b[1m138s\u001b[0m 2s/step - accuracy: 0.9481 - loss: 0.1738 - val_accuracy: 0.9644 - val_loss: 0.1398\n",
      "Epoch 3/10\n",
      "\u001b[1m66/66\u001b[0m \u001b[32m━━━━━━━━━━━━━━━━━━━━\u001b[0m\u001b[37m\u001b[0m \u001b[1m253s\u001b[0m 4s/step - accuracy: 0.9524 - loss: 0.1783 - val_accuracy: 0.9733 - val_loss: 0.1141\n",
      "Epoch 4/10\n",
      "\u001b[1m66/66\u001b[0m \u001b[32m━━━━━━━━━━━━━━━━━━━━\u001b[0m\u001b[37m\u001b[0m \u001b[1m143s\u001b[0m 2s/step - accuracy: 0.9590 - loss: 0.1457 - val_accuracy: 0.9622 - val_loss: 0.1298\n",
      "Epoch 5/10\n",
      "\u001b[1m66/66\u001b[0m \u001b[32m━━━━━━━━━━━━━━━━━━━━\u001b[0m\u001b[37m\u001b[0m \u001b[1m189s\u001b[0m 3s/step - accuracy: 0.9657 - loss: 0.1290 - val_accuracy: 0.9644 - val_loss: 0.1100\n",
      "Epoch 6/10\n",
      "\u001b[1m66/66\u001b[0m \u001b[32m━━━━━━━━━━━━━━━━━━━━\u001b[0m\u001b[37m\u001b[0m \u001b[1m212s\u001b[0m 3s/step - accuracy: 0.9620 - loss: 0.1312 - val_accuracy: 0.9267 - val_loss: 0.2350\n",
      "Epoch 7/10\n",
      "\u001b[1m66/66\u001b[0m \u001b[32m━━━━━━━━━━━━━━━━━━━━\u001b[0m\u001b[37m\u001b[0m \u001b[1m210s\u001b[0m 3s/step - accuracy: 0.9509 - loss: 0.1503 - val_accuracy: 0.9756 - val_loss: 0.1064\n",
      "Epoch 8/10\n",
      "\u001b[1m66/66\u001b[0m \u001b[32m━━━━━━━━━━━━━━━━━━━━\u001b[0m\u001b[37m\u001b[0m \u001b[1m211s\u001b[0m 3s/step - accuracy: 0.9722 - loss: 0.1076 - val_accuracy: 0.9578 - val_loss: 0.1326\n",
      "Epoch 9/10\n",
      "\u001b[1m66/66\u001b[0m \u001b[32m━━━━━━━━━━━━━━━━━━━━\u001b[0m\u001b[37m\u001b[0m \u001b[1m209s\u001b[0m 3s/step - accuracy: 0.9699 - loss: 0.1191 - val_accuracy: 0.9778 - val_loss: 0.0943\n",
      "Epoch 10/10\n",
      "\u001b[1m66/66\u001b[0m \u001b[32m━━━━━━━━━━━━━━━━━━━━\u001b[0m\u001b[37m\u001b[0m \u001b[1m263s\u001b[0m 3s/step - accuracy: 0.9750 - loss: 0.0996 - val_accuracy: 0.9689 - val_loss: 0.1091\n",
      "Restoring model weights from the end of the best epoch: 9.\n",
      "Epoch 1/20\n",
      "\u001b[1m66/66\u001b[0m \u001b[32m━━━━━━━━━━━━━━━━━━━━\u001b[0m\u001b[37m\u001b[0m \u001b[1m561s\u001b[0m 8s/step - accuracy: 0.7277 - loss: 0.8118 - val_accuracy: 0.9467 - val_loss: 0.1940\n",
      "Epoch 2/20\n",
      "\u001b[1m66/66\u001b[0m \u001b[32m━━━━━━━━━━━━━━━━━━━━\u001b[0m\u001b[37m\u001b[0m \u001b[1m557s\u001b[0m 8s/step - accuracy: 0.9033 - loss: 0.2889 - val_accuracy: 0.9289 - val_loss: 0.2359\n",
      "Epoch 3/20\n",
      "\u001b[1m66/66\u001b[0m \u001b[32m━━━━━━━━━━━━━━━━━━━━\u001b[0m\u001b[37m\u001b[0m \u001b[1m512s\u001b[0m 8s/step - accuracy: 0.9336 - loss: 0.2211 - val_accuracy: 0.9267 - val_loss: 0.2521\n",
      "Epoch 4/20\n",
      "\u001b[1m66/66\u001b[0m \u001b[32m━━━━━━━━━━━━━━━━━━━━\u001b[0m\u001b[37m\u001b[0m \u001b[1m571s\u001b[0m 8s/step - accuracy: 0.9363 - loss: 0.2123 - val_accuracy: 0.9400 - val_loss: 0.2199\n",
      "Epoch 4: early stopping\n",
      "Restoring model weights from the end of the best epoch: 1.\n"
     ]
    }
   ],
   "source": [
    "import tensorflow as tf\n",
    "import datetime\n",
    "import cv2\n",
    "import os\n",
    "import albumentations as A\n",
    "from tensorflow.keras.preprocessing.image import ImageDataGenerator\n",
    "from tensorflow.keras.applications import MobileNetV2\n",
    "from tensorflow.keras import layers, models\n",
    "from tensorflow.keras.callbacks import EarlyStopping\n",
    "\n",
    "# ===== WandB imports =====\n",
    "import wandb\n",
    "from wandb.integration.keras import WandbCallback\n",
    "\n",
    "wandb.init(project=\"kvasir-classes\")\n",
    "log_dir = \"logs/fit/\" + datetime.datetime.now().strftime(\"%Y%m%d-%H%M%S\")\n",
    "\n",
    "tensorboard_callback = tf.keras.callbacks.TensorBoard(\n",
    "    log_dir=log_dir,\n",
    "    histogram_freq=1\n",
    ")\n",
    "\n",
    "wandb.init(\n",
    "    project=\"kvasir-classes\",\n",
    "    name=\"mobilenetv2-fineTun_albumentation5\",\n",
    "    config={\n",
    "        \"epochs\": 30,\n",
    "        \"batch_size\": 32,\n",
    "        \"architecture\": \"MobileNetV2\",\n",
    "        \"image_size\": 224\n",
    "    }\n",
    ")\n",
    "\n",
    "log_dir = \"logs/fit/\" + datetime.datetime.now().strftime(\"%Y%m%d-%H%M%S\")\n",
    "\n",
    "tensorboard_callback = tf.keras.callbacks.TensorBoard(\n",
    "    log_dir=log_dir,\n",
    "    histogram_freq=1\n",
    ")\n",
    "\n",
    "# Albumentations\n",
    "train_transform = A.Compose([\n",
    "    A.Lambda(image=image_res, p=1.0),\n",
    "    A.RandomRotate90(p=0.5),\n",
    "    A.HorizontalFlip(p=0.5),\n",
    "    A.ShiftScaleRotate(shift_limit=0.1, scale_limit=0.1, rotate_limit=15, p=0.5),\n",
    "    A.RandomBrightnessContrast(brightness_limit=0.2, contrast_limit=0.2, p=0.5),\n",
    "    A.GaussianBlur(blur_limit=3, p=0.3),\n",
    "    A.RandomGamma(gamma_limit=(90,110), p=0.3),\n",
    "    A.Resize(224,224)\n",
    "])\n",
    "\n",
    "\n",
    "val_transform = A.Compose([\n",
    "    A.Resize(224,224)\n",
    "])\n",
    "\n",
    "train_gen = AlbumentationsDataGenerator(\n",
    "    image_paths=train_image_paths,\n",
    "    labels=train_labels,\n",
    "    transform=train_transform,\n",
    "    batch_size=32,\n",
    "    num_classes=3,\n",
    "    shuffle=True\n",
    ")\n",
    "\n",
    "# Validación\n",
    "val_image_paths = []\n",
    "val_labels = []\n",
    "for class_name, idx in class_indices.items():\n",
    "    files = glob.glob(f\"dataset/val/{class_name}/*\")\n",
    "    val_image_paths.extend(files)\n",
    "    val_labels.extend([idx]*len(files))\n",
    "\n",
    "val_gen = AlbumentationsDataGenerator(\n",
    "    image_paths=val_image_paths,\n",
    "    labels=val_labels,\n",
    "    transform=val_transform,\n",
    "    batch_size=32,\n",
    "    num_classes=3,\n",
    "    shuffle=False\n",
    ")\n",
    "\n",
    "early_stop = EarlyStopping(\n",
    "    monitor='val_loss',\n",
    "    patience=3,\n",
    "    restore_best_weights=True,\n",
    "    verbose=1\n",
    ")\n",
    "\n",
    "# Load pretrained weights\n",
    "base_model = MobileNetV2(weights='imagenet', include_top=False, input_shape=(224,224,3))\n",
    "base_model.trainable = False\n",
    "\n",
    "model = models.Sequential([\n",
    "    base_model,\n",
    "    layers.GlobalAveragePooling2D(),\n",
    "    layers.Dense(\n",
    "        256,\n",
    "        activation='relu',\n",
    "        kernel_regularizer=tf.keras.regularizers.l2(1e-4)  # Regularization L2\n",
    "    ),\n",
    "    layers.Dropout(0.3),  # Dropout para shrinkage\n",
    "    layers.Dense(3, activation='softmax')\n",
    "])\n",
    "# Compile\n",
    "model.compile(\n",
    "    optimizer='adam',\n",
    "    loss='categorical_crossentropy',\n",
    "    metrics=['accuracy']\n",
    ")\n",
    "\n",
    "# Train frozen\n",
    "model.fit(\n",
    "    train_gen,\n",
    "    validation_data=val_gen,\n",
    "    epochs=10,\n",
    "    callbacks=[\n",
    "        tensorboard_callback,\n",
    "        early_stop,\n",
    "        WandbCallback(save_model=False, save_graph=False)\n",
    "    ]\n",
    ")\n",
    "\n",
    "# Fine-tune\n",
    "base_model.trainable = True\n",
    "model.compile(\n",
    "    optimizer=tf.keras.optimizers.Adam(1e-5),\n",
    "    loss='categorical_crossentropy',\n",
    "    metrics=['accuracy']\n",
    ")\n",
    "\n",
    "model.fit(\n",
    "    train_gen,\n",
    "    validation_data=val_gen,\n",
    "    epochs=20,\n",
    "    callbacks=[\n",
    "        tensorboard_callback,\n",
    "        early_stop,\n",
    "        WandbCallback(save_model=False, save_graph=False)\n",
    "    ]\n",
    ")\n",
    "\n",
    "# Save\n",
    "model.save(\"model_mobilenetV2_albumentation5.keras\")"
   ]
  },
  {
   "cell_type": "code",
   "execution_count": 9,
   "id": "04b07260-9fb2-486e-a662-1d56cd303327",
   "metadata": {},
   "outputs": [],
   "source": [
    "test_image_paths = []\n",
    "test_labels = []\n",
    "\n",
    "for class_name, idx in class_indices.items():\n",
    "    files = glob.glob(f\"splited_dataset/test/{class_name}/*\")\n",
    "    test_image_paths.extend(files)\n",
    "    test_labels.extend([idx]*len(files))"
   ]
  },
  {
   "cell_type": "code",
   "execution_count": 42,
   "id": "9e9506f7-0a7a-429f-83ce-609f00dbe55e",
   "metadata": {},
   "outputs": [],
   "source": [
    "test_transform = A.Compose([\n",
    "    A.Lambda(image=image_res, p=1.0),\n",
    "    A.Resize(224,224)\n",
    "])"
   ]
  },
  {
   "cell_type": "code",
   "execution_count": 44,
   "id": "a4ffce4d-c36a-43ed-a86f-de41329dc9a0",
   "metadata": {},
   "outputs": [
    {
     "name": "stdout",
     "output_type": "stream",
     "text": [
      "\u001b[1m15/15\u001b[0m \u001b[32m━━━━━━━━━━━━━━━━━━━━\u001b[0m\u001b[37m\u001b[0m \u001b[1m39s\u001b[0m 2s/step - accuracy: 0.9476 - loss: 0.2217\n"
     ]
    }
   ],
   "source": [
    "test_gen = AlbumentationsDataGenerator(\n",
    "    image_paths=test_image_paths,\n",
    "    labels=test_labels,\n",
    "    transform=test_transform,\n",
    "    batch_size=32,\n",
    "    num_classes=3,\n",
    "    shuffle=False\n",
    ")\n",
    "\n",
    "model = tf.keras.models.load_model(\"model_mobilenetV2_albumentation5.keras\")\n",
    "\n",
    "loss, acc = model.evaluate(test_gen, verbose=1)\n"
   ]
  },
  {
   "cell_type": "code",
   "execution_count": 46,
   "id": "ef6420e7-4e36-4b53-8414-27d6b4276c49",
   "metadata": {},
   "outputs": [
    {
     "name": "stdout",
     "output_type": "stream",
     "text": [
      "\u001b[1m15/15\u001b[0m \u001b[32m━━━━━━━━━━━━━━━━━━━━\u001b[0m\u001b[37m\u001b[0m \u001b[1m41s\u001b[0m 2s/step\n",
      "\n",
      "====== Metrics ======\n",
      "Accuracy: 0.9356\n",
      "Precision (macro): 0.9439\n",
      "Recall (macro): 0.9356\n",
      "F1 Score (macro): 0.9347\n",
      "Specificity per class:\n",
      "  Clase 0: 0.9900\n",
      "  Clase 1: 1.0000\n",
      "  Clase 2: 0.9133\n",
      "\n",
      "======Confusion matrix========:\n"
     ]
    },
    {
     "data": {
      "image/png": "[encoded data removed]",
      "text/plain": [
       "<Figure size 800x600 with 2 Axes>"
      ]
     },
     "metadata": {},
     "output_type": "display_data"
    }
   ],
   "source": [
    "from sklearn.metrics import confusion_matrix, precision_score, recall_score, f1_score, accuracy_score\n",
    "import matplotlib.pyplot as plt\n",
    "import seaborn as sns\n",
    "\n",
    "from tensorflow import keras\n",
    "\n",
    "generator = test_gen  # val_gen\n",
    "\n",
    "y_true = np.array(generator.labels)\n",
    "\n",
    "\n",
    "y_pred_probs = model.predict(generator, verbose=1)\n",
    "y_pred = np.argmax(y_pred_probs, axis=1)\n",
    "\n",
    "# Accuracy global\n",
    "acc = accuracy_score(y_true, y_pred)\n",
    "\n",
    "# Average Macro Precision \n",
    "precision = precision_score(y_true, y_pred, average='macro', zero_division=0)\n",
    "\n",
    "# Recall Average Macro\n",
    "recall = recall_score(y_true, y_pred, average='macro', zero_division=0)\n",
    "\n",
    "# F1 score Average Macro\n",
    "f1 = f1_score(y_true, y_pred, average='macro', zero_division=0)\n",
    "\n",
    "# Confusion Matrix\n",
    "cm = confusion_matrix(y_true, y_pred)\n",
    "class_names = ['Esophagitis', 'Polyps', 'Ulcerative Colitis']\n",
    "\n",
    "\n",
    "# Specificity per class:\n",
    "# Specificity = TN / (TN + FP)\n",
    "specificity_per_class = []\n",
    "for i in range(cm.shape[0]):\n",
    "    TN = cm.sum() - (cm[i,:].sum() + cm[:,i].sum() - cm[i,i])\n",
    "    FP = cm[:,i].sum() - cm[i,i]\n",
    "    specificity = TN / (TN + FP) if (TN + FP) > 0 else 0\n",
    "    specificity_per_class.append(specificity)\n",
    "\n",
    "# Results\n",
    "print(\"\\n====== Metrics ======\")\n",
    "print(f\"Accuracy: {acc:.4f}\")\n",
    "print(f\"Precision (macro): {precision:.4f}\")\n",
    "print(f\"Recall (macro): {recall:.4f}\")\n",
    "print(f\"F1 Score (macro): {f1:.4f}\")\n",
    "print(\"Specificity per class:\")\n",
    "for idx, s in enumerate(specificity_per_class):\n",
    "    print(f\"  Clase {idx}: {s:.4f}\")\n",
    "print(\"\\n======Confusion matrix========:\")\n",
    "plt.figure(figsize=(8,6))\n",
    "sns.heatmap(\n",
    "    cm,\n",
    "    annot=True,\n",
    "    fmt='d',\n",
    "    cmap='Blues',\n",
    "    xticklabels=class_names,\n",
    "    yticklabels=class_names\n",
    ")\n",
    "plt.xlabel('Predicted Label')\n",
    "plt.ylabel('True Label')\n",
    "plt.title('Confusion Matrix')\n",
    "plt.show()"
   ]
  },
  {
   "cell_type": "code",
   "execution_count": 52,
   "id": "060e1cb9-6379-4b6a-b4bf-aef06299db5d",
   "metadata": {},
   "outputs": [],
   "source": [
    "# Another test. ont his one I corrected the splited val dataset"
   ]
  },
  {
   "cell_type": "code",
   "execution_count": 54,
   "id": "f1591176-877b-447d-85c9-d9be7ad38342",
   "metadata": {},
   "outputs": [
    {
     "data": {
      "text/html": [
       "Finishing previous runs because reinit is set to 'default'."
      ],
      "text/plain": [
       "<IPython.core.display.HTML object>"
      ]
     },
     "metadata": {},
     "output_type": "display_data"
    },
    {
     "data": {
      "text/html": [],
      "text/plain": [
       "<IPython.core.display.HTML object>"
      ]
     },
     "metadata": {},
     "output_type": "display_data"
    },
    {
     "data": {
      "text/html": [
       "<br>    <style><br>        .wandb-row {<br>            display: flex;<br>            flex-direction: row;<br>            flex-wrap: wrap;<br>            justify-content: flex-start;<br>            width: 100%;<br>        }<br>        .wandb-col {<br>            display: flex;<br>            flex-direction: column;<br>            flex-basis: 100%;<br>            flex: 1;<br>            padding: 10px;<br>        }<br>    </style><br><div class=\"wandb-row\"><div class=\"wandb-col\"><h3>Run history:</h3><br/><table class=\"wandb\"><tr><td>accuracy</td><td>▁</td></tr><tr><td>epoch</td><td>▁</td></tr><tr><td>loss</td><td>▁</td></tr><tr><td>val_accuracy</td><td>▁</td></tr><tr><td>val_loss</td><td>▁</td></tr></table><br/></div><div class=\"wandb-col\"><h3>Run summary:</h3><br/><table class=\"wandb\"><tr><td>accuracy</td><td>0.9119</td></tr><tr><td>best_epoch</td><td>0</td></tr><tr><td>best_val_loss</td><td>0.13506</td></tr><tr><td>epoch</td><td>0</td></tr><tr><td>loss</td><td>0.27003</td></tr><tr><td>val_accuracy</td><td>0.96889</td></tr><tr><td>val_loss</td><td>0.13506</td></tr></table><br/></div></div>"
      ],
      "text/plain": [
       "<IPython.core.display.HTML object>"
      ]
     },
     "metadata": {},
     "output_type": "display_data"
    },
    {
     "data": {
      "text/html": [
       " View run <strong style=\"color:#cdcd00\">mobilenetv2-fineTun_albumentation7</strong> at: <a href='https://wandb.ai/0256797-universidad-panamericana/kvasir-classes/runs/n9dwx4ms' target=\"_blank\">https://wandb.ai/0256797-universidad-panamericana/kvasir-classes/runs/n9dwx4ms</a><br> View project at: <a href='https://wandb.ai/0256797-universidad-panamericana/kvasir-classes' target=\"_blank\">https://wandb.ai/0256797-universidad-panamericana/kvasir-classes</a><br>Synced 5 W&B file(s), 0 media file(s), 0 artifact file(s) and 0 other file(s)"
      ],
      "text/plain": [
       "<IPython.core.display.HTML object>"
      ]
     },
     "metadata": {},
     "output_type": "display_data"
    },
    {
     "data": {
      "text/html": [
       "Find logs at: <code>.\\wandb\\run-20250702_025029-n9dwx4ms\\logs</code>"
      ],
      "text/plain": [
       "<IPython.core.display.HTML object>"
      ]
     },
     "metadata": {},
     "output_type": "display_data"
    },
    {
     "data": {
      "text/html": [
       "Tracking run with wandb version 0.20.1"
      ],
      "text/plain": [
       "<IPython.core.display.HTML object>"
      ]
     },
     "metadata": {},
     "output_type": "display_data"
    },
    {
     "data": {
      "text/html": [
       "Run data is saved locally in <code>C:\\Users\\valer\\IA_Project\\wandb\\run-20250702_025829-2uhjteaf</code>"
      ],
      "text/plain": [
       "<IPython.core.display.HTML object>"
      ]
     },
     "metadata": {},
     "output_type": "display_data"
    },
    {
     "data": {
      "text/html": [
       "Syncing run <strong><a href='https://wandb.ai/0256797-universidad-panamericana/kvasir-classes/runs/2uhjteaf' target=\"_blank\">mobilenetv2-fineTun_albumentation8</a></strong> to <a href='https://wandb.ai/0256797-universidad-panamericana/kvasir-classes' target=\"_blank\">Weights & Biases</a> (<a href='https://wandb.me/developer-guide' target=\"_blank\">docs</a>)<br>"
      ],
      "text/plain": [
       "<IPython.core.display.HTML object>"
      ]
     },
     "metadata": {},
     "output_type": "display_data"
    },
    {
     "data": {
      "text/html": [
       " View project at <a href='https://wandb.ai/0256797-universidad-panamericana/kvasir-classes' target=\"_blank\">https://wandb.ai/0256797-universidad-panamericana/kvasir-classes</a>"
      ],
      "text/plain": [
       "<IPython.core.display.HTML object>"
      ]
     },
     "metadata": {},
     "output_type": "display_data"
    },
    {
     "data": {
      "text/html": [
       " View run at <a href='https://wandb.ai/0256797-universidad-panamericana/kvasir-classes/runs/2uhjteaf' target=\"_blank\">https://wandb.ai/0256797-universidad-panamericana/kvasir-classes/runs/2uhjteaf</a>"
      ],
      "text/plain": [
       "<IPython.core.display.HTML object>"
      ]
     },
     "metadata": {},
     "output_type": "display_data"
    },
    {
     "name": "stderr",
     "output_type": "stream",
     "text": [
      "C:\\Users\\valer\\AppData\\Roaming\\Python\\Python310\\site-packages\\albumentations\\core\\validation.py:114: UserWarning: ShiftScaleRotate is a special case of Affine transform. Please use Affine transform instead.\n",
      "  original_init(self, **validated_kwargs)\n",
      "C:\\Users\\valer\\anaconda3\\envs\\tf_env\\lib\\site-packages\\keras\\src\\trainers\\data_adapters\\py_dataset_adapter.py:121: UserWarning: Your `PyDataset` class should call `super().__init__(**kwargs)` in its constructor. `**kwargs` can include `workers`, `use_multiprocessing`, `max_queue_size`. Do not pass these arguments to `fit()`, as they will be ignored.\n",
      "  self._warn_if_super_not_called()\n"
     ]
    },
    {
     "name": "stdout",
     "output_type": "stream",
     "text": [
      "Epoch 1/10\n",
      "\u001b[1m66/66\u001b[0m \u001b[32m━━━━━━━━━━━━━━━━━━━━\u001b[0m\u001b[37m\u001b[0m \u001b[1m178s\u001b[0m 3s/step - accuracy: 0.8129 - loss: 0.4762 - val_accuracy: 0.9533 - val_loss: 0.1730\n",
      "Epoch 2/10\n",
      "\u001b[1m66/66\u001b[0m \u001b[32m━━━━━━━━━━━━━━━━━━━━\u001b[0m\u001b[37m\u001b[0m \u001b[1m222s\u001b[0m 3s/step - accuracy: 0.9376 - loss: 0.1987 - val_accuracy: 0.9333 - val_loss: 0.1888\n",
      "Epoch 3/10\n",
      "\u001b[1m66/66\u001b[0m \u001b[32m━━━━━━━━━━━━━━━━━━━━\u001b[0m\u001b[37m\u001b[0m \u001b[1m226s\u001b[0m 3s/step - accuracy: 0.9604 - loss: 0.1692 - val_accuracy: 0.9822 - val_loss: 0.0950\n",
      "Epoch 4/10\n",
      "\u001b[1m66/66\u001b[0m \u001b[32m━━━━━━━━━━━━━━━━━━━━\u001b[0m\u001b[37m\u001b[0m \u001b[1m273s\u001b[0m 4s/step - accuracy: 0.9579 - loss: 0.1475 - val_accuracy: 0.9844 - val_loss: 0.0987\n",
      "Epoch 5/10\n",
      "\u001b[1m66/66\u001b[0m \u001b[32m━━━━━━━━━━━━━━━━━━━━\u001b[0m\u001b[37m\u001b[0m \u001b[1m242s\u001b[0m 4s/step - accuracy: 0.9619 - loss: 0.1352 - val_accuracy: 0.9822 - val_loss: 0.1164\n",
      "Epoch 6/10\n",
      "\u001b[1m66/66\u001b[0m \u001b[32m━━━━━━━━━━━━━━━━━━━━\u001b[0m\u001b[37m\u001b[0m \u001b[1m238s\u001b[0m 4s/step - accuracy: 0.9629 - loss: 0.1484 - val_accuracy: 0.9822 - val_loss: 0.1027\n",
      "Epoch 6: early stopping\n",
      "Restoring model weights from the end of the best epoch: 3.\n",
      "Epoch 1/20\n",
      "\u001b[1m66/66\u001b[0m \u001b[32m━━━━━━━━━━━━━━━━━━━━\u001b[0m\u001b[37m\u001b[0m \u001b[1m656s\u001b[0m 9s/step - accuracy: 0.6873 - loss: 0.9376 - val_accuracy: 0.9756 - val_loss: 0.1277\n",
      "Epoch 2/20\n",
      "\u001b[1m66/66\u001b[0m \u001b[32m━━━━━━━━━━━━━━━━━━━━\u001b[0m\u001b[37m\u001b[0m \u001b[1m733s\u001b[0m 11s/step - accuracy: 0.9127 - loss: 0.2774 - val_accuracy: 0.9711 - val_loss: 0.1431\n",
      "Epoch 3/20\n",
      "\u001b[1m66/66\u001b[0m \u001b[32m━━━━━━━━━━━━━━━━━━━━\u001b[0m\u001b[37m\u001b[0m \u001b[1m257s\u001b[0m 4s/step - accuracy: 0.9252 - loss: 0.2354 - val_accuracy: 0.9756 - val_loss: 0.1378\n",
      "Epoch 4/20\n",
      "\u001b[1m66/66\u001b[0m \u001b[32m━━━━━━━━━━━━━━━━━━━━\u001b[0m\u001b[37m\u001b[0m \u001b[1m248s\u001b[0m 4s/step - accuracy: 0.9382 - loss: 0.2157 - val_accuracy: 0.9733 - val_loss: 0.1442\n",
      "Epoch 4: early stopping\n",
      "Restoring model weights from the end of the best epoch: 1.\n"
     ]
    }
   ],
   "source": [
    "wandb.init(\n",
    "    project=\"kvasir-classes\",\n",
    "    name=\"mobilenetv2-fineTun_albumentation8\",\n",
    "    config={\n",
    "        \"epochs\": 30,\n",
    "        \"batch_size\": 32,\n",
    "        \"architecture\": \"MobileNetV2\",\n",
    "        \"image_size\": 224\n",
    "    }\n",
    ")\n",
    "\n",
    "log_dir = \"logs/fit/\" + datetime.datetime.now().strftime(\"%Y%m%d-%H%M%S\")\n",
    "\n",
    "tensorboard_callback = tf.keras.callbacks.TensorBoard(\n",
    "    log_dir=log_dir,\n",
    "    histogram_freq=1\n",
    ")\n",
    "\n",
    "# Albumentations\n",
    "train_transform = A.Compose([\n",
    "    A.Lambda(image=image_res, p=1.0),\n",
    "    A.RandomRotate90(p=0.5),\n",
    "    A.HorizontalFlip(p=0.5),\n",
    "    A.ShiftScaleRotate(shift_limit=0.1, scale_limit=0.1, rotate_limit=15, p=0.5),\n",
    "    A.RandomBrightnessContrast(brightness_limit=0.2, contrast_limit=0.2, p=0.5),\n",
    "    A.GaussianBlur(blur_limit=3, p=0.3),\n",
    "    A.RandomGamma(gamma_limit=(90,110), p=0.3),\n",
    "    A.Resize(224,224)\n",
    "])\n",
    "\n",
    "\n",
    "val_transform = A.Compose([\n",
    "    A.Lambda(image=image_res, p=1.0),\n",
    "    A.Resize(224,224)\n",
    "])\n",
    "\n",
    "train_gen = AlbumentationsDataGenerator(\n",
    "    image_paths=train_image_paths,\n",
    "    labels=train_labels,\n",
    "    transform=train_transform,\n",
    "    batch_size=32,\n",
    "    num_classes=3,\n",
    "    shuffle=True\n",
    ")\n",
    "\n",
    "# Validación\n",
    "val_image_paths = []\n",
    "val_labels = []\n",
    "for class_name, idx in class_indices.items():\n",
    "    files = glob.glob(f\"splited_dataset/val/{class_name}/*\")\n",
    "    val_image_paths.extend(files)\n",
    "    val_labels.extend([idx]*len(files))\n",
    "\n",
    "val_gen = AlbumentationsDataGenerator(\n",
    "    image_paths=val_image_paths,\n",
    "    labels=val_labels,\n",
    "    transform=val_transform,\n",
    "    batch_size=32,\n",
    "    num_classes=3,\n",
    "    shuffle=False\n",
    ")\n",
    "\n",
    "early_stop = EarlyStopping(\n",
    "    monitor='val_loss',\n",
    "    patience=3,\n",
    "    restore_best_weights=True,\n",
    "    verbose=1\n",
    ")\n",
    "\n",
    "# Load pretrained weights\n",
    "base_model = MobileNetV2(weights='imagenet', include_top=False, input_shape=(224,224,3))\n",
    "base_model.trainable = False\n",
    "\n",
    "model = models.Sequential([\n",
    "    base_model,\n",
    "    layers.GlobalAveragePooling2D(),\n",
    "    layers.Dense(\n",
    "        256,\n",
    "        activation='relu',\n",
    "        kernel_regularizer=tf.keras.regularizers.l2(1e-4)  # Regularization L2\n",
    "    ),\n",
    "    layers.Dropout(0.3),  # Dropout para shrinkage\n",
    "    layers.Dense(3, activation='softmax')\n",
    "])\n",
    "# Compile\n",
    "model.compile(\n",
    "    optimizer='adam',\n",
    "    loss='categorical_crossentropy',\n",
    "    metrics=['accuracy']\n",
    ")\n",
    "\n",
    "# Train frozen\n",
    "model.fit(\n",
    "    train_gen,\n",
    "    validation_data=val_gen,\n",
    "    epochs=10,\n",
    "    callbacks=[\n",
    "        tensorboard_callback,\n",
    "        early_stop,\n",
    "        WandbCallback(save_model=False, save_graph=False)\n",
    "    ]\n",
    ")\n",
    "\n",
    "# Fine-tune\n",
    "base_model.trainable = True\n",
    "model.compile(\n",
    "    optimizer=tf.keras.optimizers.Adam(1e-5),\n",
    "    loss='categorical_crossentropy',\n",
    "    metrics=['accuracy']\n",
    ")\n",
    "\n",
    "model.fit(\n",
    "    train_gen,\n",
    "    validation_data=val_gen,\n",
    "    epochs=20,\n",
    "    callbacks=[\n",
    "        tensorboard_callback,\n",
    "        early_stop,\n",
    "        WandbCallback(save_model=False, save_graph=False)\n",
    "    ]\n",
    ")\n",
    "\n",
    "# Save\n",
    "model.save(\"model_mobilenetV2_albumentation8.keras\")"
   ]
  },
  {
   "cell_type": "code",
   "execution_count": null,
   "id": "7fcfa3be-25b1-474d-b413-022fb4e410ed",
   "metadata": {},
   "outputs": [],
   "source": []
  }
 ],
 "metadata": {
  "kernelspec": {
   "display_name": "Python [conda env:tf_env]",
   "language": "python",
   "name": "conda-env-tf_env-py"
  },
  "language_info": {
   "codemirror_mode": {
    "name": "ipython",
    "version": 3
   },
   "file_extension": ".py",
   "mimetype": "text/x-python",
   "name": "python",
   "nbconvert_exporter": "python",
   "pygments_lexer": "ipython3",
   "version": "3.10.18"
  }
 },
 "nbformat": 4,
 "nbformat_minor": 5
}
