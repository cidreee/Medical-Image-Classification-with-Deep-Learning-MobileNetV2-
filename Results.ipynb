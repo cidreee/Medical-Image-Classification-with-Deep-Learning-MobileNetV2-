{
 "cells": [
  {
   "cell_type": "code",
   "execution_count": 1,
   "id": "090c53c6-d623-49ef-ad0d-60a9a7db282a",
   "metadata": {},
   "outputs": [],
   "source": [
    "import cv2\n",
    "import numpy as np\n",
    "\n",
    "def image_res(imagen, brillo_min=40, **kwargs):\n",
    "    \"\"\"\n",
    "    Cleans the endoscopic image by removing the green box (ScopeGuide),\n",
    "    cropping the bright useful region if applicable, and masking any green\n",
    "    box by filling it with the average color (excluding green regions).\n",
    "    \"\"\"\n",
    "\n",
    "    # Convert to LAB to detect brightness\n",
    "    imagen_lab = cv2.cvtColor(imagen, cv2.COLOR_BGR2LAB)\n",
    "    l_channel, _, _ = cv2.split(imagen_lab)\n",
    "\n",
    "    # Brightness threshold\n",
    "    _, mask = cv2.threshold(l_channel, brillo_min, 255, cv2.THRESH_BINARY)\n",
    "\n",
    "    # Erosion + dilation\n",
    "    kernel = cv2.getStructuringElement(cv2.MORPH_ELLIPSE, (5, 5))\n",
    "    mask = cv2.morphologyEx(mask, cv2.MORPH_OPEN, kernel)\n",
    "\n",
    "    # Search for contours\n",
    "    contours, _ = cv2.findContours(mask, cv2.RETR_EXTERNAL, cv2.CHAIN_APPROX_SIMPLE)\n",
    "\n",
    "    if contours:\n",
    "        largest = max(contours, key=cv2.contourArea)\n",
    "        x, y, w, h = cv2.boundingRect(largest)\n",
    "        if w * h < 0.95 * imagen.shape[0] * imagen.shape[1]:\n",
    "            margen = 10\n",
    "            x = max(x - margen, 0)\n",
    "            y = max(y - margen, 0)\n",
    "            x2 = min(x + w + 2 * margen, imagen.shape[1])\n",
    "            y2 = min(y + h + 2 * margen, imagen.shape[0])\n",
    "            imagen = imagen[y:y2, x:x2]\n",
    "            mask = mask[y:y2, x:x2]\n",
    "\n",
    "    # Convert to HSV\n",
    "    hsv = cv2.cvtColor(imagen, cv2.COLOR_BGR2HSV)\n",
    "\n",
    "    # Green range\n",
    "    verde_bajo = np.array([35, 100, 100])\n",
    "    verde_alto = np.array([85, 255, 255])\n",
    "\n",
    "    mask_verde = cv2.inRange(hsv, verde_bajo, verde_alto)\n",
    "\n",
    "    # Morphology to join disperse pixels\n",
    "    kernel_verde = np.ones((15, 15), np.uint8)\n",
    "    mask_verde = cv2.morphologyEx(mask_verde, cv2.MORPH_CLOSE, kernel_verde)\n",
    "    mask_verde = cv2.dilate(mask_verde, kernel_verde, iterations=1)\n",
    "\n",
    "    n_pixels_verdes = cv2.countNonZero(mask_verde)\n",
    "\n",
    "    # Prepare mask to exclude green\n",
    "    if cv2.countNonZero(mask) > 0:\n",
    "        # Combine brightness mask and NOT green mask\n",
    "        mask_no_verde = cv2.bitwise_and(mask, cv2.bitwise_not(mask_verde))\n",
    "        if cv2.countNonZero(mask_no_verde) > 0:\n",
    "            mean_color = cv2.mean(imagen, mask=mask_no_verde)[:3]\n",
    "        else:\n",
    "            # If everything is green, fallback to no-green over whole image\n",
    "            mask_all_no_verde = cv2.bitwise_not(mask_verde)\n",
    "            mean_color = cv2.mean(imagen, mask=mask_all_no_verde)[:3]\n",
    "    else:\n",
    "        # No brightness mask, use entire image excluding green\n",
    "        mask_all_no_verde = cv2.bitwise_not(mask_verde)\n",
    "        mean_color = cv2.mean(imagen, mask=mask_all_no_verde)[:3]\n",
    "\n",
    "    mean_color = np.array(mean_color, dtype=np.uint8)\n",
    "\n",
    "    if n_pixels_verdes > 0:\n",
    "        relleno = np.full(imagen.shape, mean_color, dtype=np.uint8)\n",
    "        mask_verde_3c = cv2.merge([mask_verde]*3)\n",
    "        imagen_resultado = np.where(mask_verde_3c > 0, relleno, imagen)\n",
    "        return imagen_resultado\n",
    "\n",
    "    return imagen\n"
   ]
  },
  {
   "cell_type": "code",
   "execution_count": 3,
   "id": "8f9ad48e-38b1-4b9d-8143-96f61b4c25e0",
   "metadata": {},
   "outputs": [],
   "source": [
    "from tensorflow.keras.utils import Sequence\n",
    "import numpy as np\n",
    "\n",
    "\n",
    "class AlbumentationsDataGenerator(Sequence):\n",
    "    def __init__(self, image_paths, labels, transform, batch_size=32, num_classes=3, shuffle=True, target_size=(224,224)):\n",
    "        self.image_paths = image_paths\n",
    "        self.labels = labels\n",
    "        self.transform = transform\n",
    "        self.batch_size = batch_size\n",
    "        self.num_classes = num_classes\n",
    "        self.shuffle = shuffle\n",
    "        self.target_size = target_size\n",
    "        self.indices = np.arange(len(self.image_paths))\n",
    "        self.on_epoch_end()\n",
    "\n",
    "    def __len__(self):\n",
    "        return int(np.ceil(len(self.image_paths) / self.batch_size))\n",
    "\n",
    "    def __getitem__(self, index):\n",
    "        batch_indices = self.indices[index*self.batch_size:(index+1)*self.batch_size]\n",
    "        batch_images = []\n",
    "        batch_labels = []\n",
    "        for i in batch_indices:\n",
    "            img = cv2.imread(self.image_paths[i])\n",
    "            img = cv2.cvtColor(img, cv2.COLOR_BGR2RGB)\n",
    "            augmented = self.transform(image=img)\n",
    "            img = augmented['image'].astype(np.float32) / 255.0                   \n",
    "            batch_images.append(img)\n",
    "            batch_labels.append(self.labels[i])\n",
    "        batch_images = np.array(batch_images)\n",
    "        batch_labels = np.eye(self.num_classes)[batch_labels]\n",
    "        return batch_images, batch_labels\n",
    "\n",
    "    def on_epoch_end(self):\n",
    "        if self.shuffle:\n",
    "            np.random.shuffle(self.indices)\n",
    "\n",
    "            batch_images.append(img)\n",
    "            batch_labels.append(self.labels[i])\n",
    "        batch_images = np.array(batch_images)\n",
    "        batch_labels = np.eye(self.num_classes)[batch_labels]\n",
    "        return batch_images, batch_labels\n",
    "\n",
    "    def on_epoch_end(self):\n",
    "        if self.shuffle:\n",
    "            np.random.shuffle(self.indices)\n"
   ]
  },
  {
   "cell_type": "code",
   "execution_count": 7,
   "id": "af100fde-b3f1-429f-9921-0e044f55d88b",
   "metadata": {},
   "outputs": [],
   "source": [
    "import tensorflow as tf\n",
    "import datetime\n",
    "import cv2\n",
    "import os\n",
    "import albumentations as A\n",
    "from tensorflow.keras.preprocessing.image import ImageDataGenerator\n",
    "from tensorflow.keras.applications import MobileNetV2\n",
    "from tensorflow.keras import layers, models\n",
    "from tensorflow.keras.callbacks import EarlyStopping"
   ]
  },
  {
   "cell_type": "code",
   "execution_count": 13,
   "id": "b15f1000-d831-46de-9780-bab991156582",
   "metadata": {},
   "outputs": [
    {
     "name": "stderr",
     "output_type": "stream",
     "text": [
      "C:\\Users\\valer\\anaconda3\\envs\\tf_env\\lib\\site-packages\\keras\\src\\trainers\\data_adapters\\py_dataset_adapter.py:121: UserWarning: Your `PyDataset` class should call `super().__init__(**kwargs)` in its constructor. `**kwargs` can include `workers`, `use_multiprocessing`, `max_queue_size`. Do not pass these arguments to `fit()`, as they will be ignored.\n",
      "  self._warn_if_super_not_called()\n"
     ]
    },
    {
     "name": "stdout",
     "output_type": "stream",
     "text": [
      "\u001b[1m15/15\u001b[0m \u001b[32m━━━━━━━━━━━━━━━━━━━━\u001b[0m\u001b[37m\u001b[0m \u001b[1m54s\u001b[0m 3s/step - accuracy: 0.9660 - loss: 0.1462\n"
     ]
    }
   ],
   "source": [
    "import glob\n",
    "\n",
    "class_indices = {'esophagitis':0, 'polyps':1, 'ulcerative-colitis':2}\n",
    "\n",
    "test_image_paths = []\n",
    "test_labels = []\n",
    "\n",
    "for class_name, idx in class_indices.items():\n",
    "    files = glob.glob(f\"splited_dataset/test/{class_name}/*\")\n",
    "    test_image_paths.extend(files)\n",
    "    test_labels.extend([idx]*len(files))\n",
    "\n",
    "test_transform = A.Compose([\n",
    "    A.Lambda(image=image_res, p=1.0),\n",
    "    A.Resize(224,224)\n",
    "])\n",
    "\n",
    "test_gen = AlbumentationsDataGenerator(\n",
    "    image_paths=test_image_paths,\n",
    "    labels=test_labels,\n",
    "    transform=test_transform,\n",
    "    batch_size=32,\n",
    "    num_classes=3,\n",
    "    shuffle=False\n",
    ")\n",
    "\n",
    "model = tf.keras.models.load_model(\"model_mobilenetV2_albumentation8.keras\")\n",
    "\n",
    "loss, acc = model.evaluate(test_gen, verbose=1)\n"
   ]
  },
  {
   "cell_type": "code",
   "execution_count": 15,
   "id": "34a163af-fc0e-4f07-a579-6998107a6679",
   "metadata": {},
   "outputs": [
    {
     "name": "stdout",
     "output_type": "stream",
     "text": [
      "Test Loss: 0.2026\n",
      "Test Accuracy: 0.9489\n"
     ]
    }
   ],
   "source": [
    "print(f\"Test Loss: {loss:.4f}\")\n",
    "print(f\"Test Accuracy: {acc:.4f}\")"
   ]
  },
  {
   "cell_type": "code",
   "execution_count": 17,
   "id": "6f1e9d63-f09d-4654-b1cd-b725a735e46f",
   "metadata": {},
   "outputs": [
    {
     "name": "stdout",
     "output_type": "stream",
     "text": [
      "\u001b[1m15/15\u001b[0m \u001b[32m━━━━━━━━━━━━━━━━━━━━\u001b[0m\u001b[37m\u001b[0m \u001b[1m61s\u001b[0m 3s/step\n"
     ]
    }
   ],
   "source": [
    "from sklearn.metrics import confusion_matrix, precision_score, recall_score, f1_score, accuracy_score\n",
    "import matplotlib.pyplot as plt\n",
    "import seaborn as sns\n",
    "\n",
    "from tensorflow import keras\n",
    "\n",
    "generator = test_gen  # val_gen\n",
    "\n",
    "y_true = np.array(generator.labels)\n",
    "\n",
    "\n",
    "y_pred_probs = model.predict(generator, verbose=1)\n",
    "y_pred = np.argmax(y_pred_probs, axis=1)\n"
   ]
  },
  {
   "cell_type": "code",
   "execution_count": 21,
   "id": "b773b3d2-0d68-4033-a73a-46d648c979db",
   "metadata": {},
   "outputs": [
    {
     "name": "stdout",
     "output_type": "stream",
     "text": [
      "\n",
      "====== METRICS PER CLASS ======\n",
      "\n",
      "Class 'esophagitis':\n",
      "  Precision: 0.9434\n",
      "  Recall: 1.0000\n",
      "  F1 Score: 0.9709\n",
      "  Specificity: 0.9700\n",
      "\n",
      "Class 'polyps':\n",
      "  Precision: 0.9926\n",
      "  Recall: 0.9000\n",
      "  F1 Score: 0.9441\n",
      "  Specificity: 0.9967\n",
      "\n",
      "Class 'ulcerative-colitis':\n",
      "  Precision: 0.9161\n",
      "  Recall: 0.9467\n",
      "  F1 Score: 0.9311\n",
      "  Specificity: 0.9567\n",
      "\n",
      "======Confusion matrix========:\n"
     ]
    },
    {
     "data": {
      "image/png": "[encoded data removed]",
      "text/plain": [
       "<Figure size 800x600 with 2 Axes>"
      ]
     },
     "metadata": {},
     "output_type": "display_data"
    }
   ],
   "source": [
    "# Clases\n",
    "classes = list(class_indices.keys())\n",
    "\n",
    "# Precision por clase\n",
    "precision_per_class = precision_score(y_true, y_pred, average=None)\n",
    "\n",
    "# Recall por clase\n",
    "recall_per_class = recall_score(y_true, y_pred, average=None)\n",
    "\n",
    "# F1 por clase\n",
    "f1_per_class = f1_score(y_true, y_pred, average=None)\n",
    "\n",
    "cm = confusion_matrix(y_true, y_pred)\n",
    "class_names = ['Esophagitis', 'Polyps', 'Ulcerative Colitis']\n",
    "\n",
    "# Specificity por clase\n",
    "specificity_per_class = []\n",
    "for i in range(len(classes)):\n",
    "    TN = cm.sum() - (cm[i,:].sum() + cm[:,i].sum() - cm[i,i])\n",
    "    FP = cm[:,i].sum() - cm[i,i]\n",
    "    specificity = TN / (TN + FP) if (TN + FP) > 0 else 0\n",
    "    specificity_per_class.append(specificity)\n",
    "\n",
    "# Mostrar métricas por clase\n",
    "print(\"\\n====== METRICS PER CLASS ======\")\n",
    "for idx, cls in enumerate(classes):\n",
    "    print(f\"\\nClass '{cls}':\")\n",
    "    print(f\"  Precision: {precision_per_class[idx]:.4f}\")\n",
    "    print(f\"  Recall: {recall_per_class[idx]:.4f}\")\n",
    "    print(f\"  F1 Score: {f1_per_class[idx]:.4f}\")\n",
    "    print(f\"  Specificity: {specificity_per_class[idx]:.4f}\")\n",
    "\n",
    "\n",
    "print(\"\\n======Confusion matrix========:\")\n",
    "plt.figure(figsize=(8,6))\n",
    "sns.heatmap(\n",
    "    cm,\n",
    "    annot=True,\n",
    "    fmt='d',\n",
    "    cmap='Blues',\n",
    "    xticklabels=class_names,\n",
    "    yticklabels=class_names\n",
    ")\n",
    "plt.xlabel('Predicted Label')\n",
    "plt.ylabel('True Label')\n",
    "plt.title('Confusion Matrix')\n",
    "plt.show()"
   ]
  },
  {
   "cell_type": "code",
   "execution_count": 23,
   "id": "0a71edc2-5507-4c74-a696-ede6cc999aad",
   "metadata": {},
   "outputs": [
    {
     "name": "stdout",
     "output_type": "stream",
     "text": [
      "\n",
      "====== GLOBAL METRICS ======\n",
      "Accuracy: 0.9489\n",
      "Precision (macro): 0.9507\n",
      "Recall (macro): 0.9489\n",
      "F1 Score (macro): 0.9487\n"
     ]
    }
   ],
   "source": [
    "accuracy = accuracy_score(y_true, y_pred)\n",
    "precision_macro = precision_score(y_true, y_pred, average='macro')\n",
    "recall_macro = recall_score(y_true, y_pred, average='macro')\n",
    "f1_macro = f1_score(y_true, y_pred, average='macro')\n",
    "\n",
    "print(\"\\n====== GLOBAL METRICS ======\")\n",
    "print(f\"Accuracy: {accuracy:.4f}\")\n",
    "print(f\"Precision (macro): {precision_macro:.4f}\")\n",
    "print(f\"Recall (macro): {recall_macro:.4f}\")\n",
    "print(f\"F1 Score (macro): {f1_macro:.4f}\")"
   ]
  },
  {
   "cell_type": "code",
   "execution_count": null,
   "id": "53a25c7c-9783-4c7c-a7f4-a08d64b215dd",
   "metadata": {},
   "outputs": [],
   "source": []
  }
 ],
 "metadata": {
  "kernelspec": {
   "display_name": "Python [conda env:tf_env]",
   "language": "python",
   "name": "conda-env-tf_env-py"
  },
  "language_info": {
   "codemirror_mode": {
    "name": "ipython",
    "version": 3
   },
   "file_extension": ".py",
   "mimetype": "text/x-python",
   "name": "python",
   "nbconvert_exporter": "python",
   "pygments_lexer": "ipython3",
   "version": "3.10.18"
  }
 },
 "nbformat": 4,
 "nbformat_minor": 5
}
